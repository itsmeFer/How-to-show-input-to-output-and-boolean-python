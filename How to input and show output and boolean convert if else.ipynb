{
 "cells": [
  {
   "cell_type": "code",
   "execution_count": null,
   "metadata": {},
   "outputs": [],
   "source": [
    "nama = input(\"Masukkan Nama anda: \")\n",
    "nim = int(input(\"Masukkan NIM anda: \"))\n",
    "usia = int(input(\"Masukkan Usia anda: \"))\n",
    "kota = input(\"Masukkan Kota anda: \")\n",
    "status = input(\"Status? (True/False): \")\n",
    "\n",
    "\n",
    "if status.lower() == 'true':\n",
    "    status = \"lulus\"\n",
    "else:\n",
    "    status = \"tidak lulus\"\n",
    "\n",
    "print(f\"Nama: {nama}\")\n",
    "print(f\"NIM\\t: {nim}\")\n",
    "print(f\"Usia : {usia}\")  \n",
    "print(f\"Kota\\t: {kota}\")  \n",
    "print(f\"Status: {status}\")"
   ]
  }
 ],
 "metadata": {
  "language_info": {
   "name": "python"
  }
 },
 "nbformat": 4,
 "nbformat_minor": 2
}
